{
 "cells": [
  {
   "cell_type": "code",
   "execution_count": 9,
   "metadata": {},
   "outputs": [],
   "source": [
    "from fastai.tabular.all import *\n",
    "from fastinference.tabular import *\n",
    "from datetime import datetime,timedelta\n",
    "from dotenv import load_dotenv\n",
    "from google.cloud import bigquery\n",
    "import os\n",
    "sys.path.append('../')\n",
    "from lib.fetcher import fetch"
   ]
  },
  {
   "cell_type": "code",
   "execution_count": 17,
   "metadata": {},
   "outputs": [],
   "source": [
    "# Load secrets from environment variables to avoid showing them in shared notebook snapshots\n",
    "load_dotenv(dotenv_path='/storage/.env')\n",
    "\n",
    "# Define variables\n",
    "flush = True\n",
    "use_cat = False\n",
    "var_viewer_login = 'chillu'\n",
    "var_bigquery_table = 'silverstripe.com:api-project-617183295772.github_silverstripe_events.events_chillu'\n",
    "var_date_min=(datetime.now() - timedelta(days=4*365))\n",
    "var_date_max=(datetime.now() - timedelta(days=30))\n",
    "var_results_path='/storage/results.csv'"
   ]
  },
  {
   "cell_type": "code",
   "execution_count": 18,
   "metadata": {},
   "outputs": [],
   "source": [
    "# https://towardsdatascience.com/normalization-vs-standardization-cb8fe15082eb\n",
    "def normalise(x):\n",
    "    return (x-min(x))/(max(x)-min(x))"
   ]
  },
  {
   "cell_type": "code",
   "execution_count": 19,
   "metadata": {},
   "outputs": [],
   "source": [
    "def preprocess(df):\n",
    "    # Fill missing values with zeroes\n",
    "    df = df.fillna(value=0)\n",
    "    # Clip outliers in scoring inputs to provide a better range to the regression\n",
    "    df['viewer_events_count'].clip(upper=3, inplace=True)\n",
    "    df['viewer_comments_count'].clip(upper=3, inplace=True)\n",
    "    df['viewer_comments_body_count'].clip(upper=500, inplace=True)\n",
    "    return df"
   ]
  },
  {
   "cell_type": "code",
   "execution_count": 20,
   "metadata": {},
   "outputs": [],
   "source": [
    "# Get subset of githubarchive.org data\n",
    "# DANGER DANGER This query can cost up to $30USD\n",
    "query1 = (\"\"\"\n",
    "SELECT \n",
    "id, \n",
    "type, \n",
    "created_at, \n",
    "repo.name AS repo_name, \n",
    "repo.id AS repo_id, \n",
    "actor.login AS actor_login, \n",
    "actor.id AS actor_id, \n",
    "org.id AS org_id, \n",
    "org.login AS org_login, \n",
    "payload\n",
    "FROM `githubarchive.day.2*`\n",
    "WHERE\n",
    "# Date without the leading \"2\" (workaround to filter out \"yesterday\" table naming)\n",
    "_TABLE_SUFFIX BETWEEN '{var_date_min}' AND '{var_date_max}'\n",
    "AND actor.login = '{var_viewer_login}'\n",
    "\"\"\".format(\n",
    "    var_viewer_login=var_viewer_login,\n",
    "    var_date_min=var_date_max.strftime('%Y-%m-%d')[1:],\n",
    "    var_date_max=var_date_max.strftime('%Y-%m-%d')[1:]\n",
    "))\n",
    "# TODO Create view from query1"
   ]
  },
  {
   "cell_type": "code",
   "execution_count": 21,
   "metadata": {},
   "outputs": [
    {
     "ename": "KeyError",
     "evalue": "'var_date_min'",
     "output_type": "error",
     "traceback": [
      "\u001b[0;31m---------------------------------------------------------------------------\u001b[0m",
      "\u001b[0;31mKeyError\u001b[0m                                  Traceback (most recent call last)",
      "\u001b[0;32m<ipython-input-21-4c531f9ddc48>\u001b[0m in \u001b[0;36m<module>\u001b[0;34m\u001b[0m\n\u001b[0;32m----> 1\u001b[0;31m query2 = (\"\"\"\n\u001b[0m\u001b[1;32m      2\u001b[0m \u001b[0;31m# Get events with baseline analysis\u001b[0m\u001b[0;34m\u001b[0m\u001b[0;34m\u001b[0m\u001b[0;34m\u001b[0m\u001b[0m\n\u001b[1;32m      3\u001b[0m \u001b[0mSELECT\u001b[0m\u001b[0;34m\u001b[0m\u001b[0;34m\u001b[0m\u001b[0m\n\u001b[1;32m      4\u001b[0m \u001b[0;34m*\u001b[0m\u001b[0;34m,\u001b[0m\u001b[0;34m\u001b[0m\u001b[0;34m\u001b[0m\u001b[0m\n\u001b[1;32m      5\u001b[0m \u001b[0;34m(\u001b[0m\u001b[0mtype\u001b[0m \u001b[0mIN\u001b[0m \u001b[0;34m(\u001b[0m\u001b[0;34m'IssueCommentEvent'\u001b[0m\u001b[0;34m,\u001b[0m \u001b[0;34m'PullRequestReviewCommentEvent'\u001b[0m\u001b[0;34m,\u001b[0m \u001b[0;34m'PullRequestCommentEvent'\u001b[0m\u001b[0;34m)\u001b[0m\u001b[0;34m)\u001b[0m \u001b[0mAS\u001b[0m \u001b[0mis_comment\u001b[0m\u001b[0;34m,\u001b[0m\u001b[0;34m\u001b[0m\u001b[0;34m\u001b[0m\u001b[0m\n",
      "\u001b[0;31mKeyError\u001b[0m: 'var_date_min'"
     ]
    }
   ],
   "source": [
    "query2 = (\"\"\"\n",
    "# Get events with baseline analysis\n",
    "SELECT\n",
    "*,\n",
    "(type IN ('IssueCommentEvent', 'PullRequestReviewCommentEvent', 'PullRequestCommentEvent')) AS is_comment,\n",
    "(JSON_EXTRACT_SCALAR(payload, '$.action') = 'create' AND actor_login = '{var_viewer_login}') AS is_author,\n",
    "(body IS NOT NULL AND body LIKE CONCAT('%@', '{var_viewer_login}', '%')) AS is_at_mentioned,\n",
    "# TODO Includes @param, @return etc.\n",
    "ARRAY_TO_STRING(REGEXP_EXTRACT_ALL(body, r'(?:^|\\s)(@[a-zA-Z0-9-_//]+)'),',') AS at_mentions,\n",
    "ARRAY_LENGTH(REGEXP_EXTRACT_ALL(body, r'(?:^|\\s)(@[a-zA-Z0-9-_//]+)')) AS at_mentions_count,\n",
    "CHAR_LENGTH(title) AS title_chars_count,\n",
    "CHAR_LENGTH(body) AS body_chars_count,\n",
    "ARRAY_LENGTH(REGEXP_EXTRACT_ALL(body, r'[#\\*]')) AS markdown_chars_count\n",
    "FROM (\n",
    "  # Get all relevant events in relevant repos.\n",
    "  # Normalise some data between types.\n",
    "  SELECT\n",
    "    *,\n",
    "    JSON_EXTRACT_SCALAR(payload, '$.action') AS action,\n",
    "    COALESCE(\n",
    "      JSON_EXTRACT_SCALAR(payload, '$.issue.id'),\n",
    "      JSON_EXTRACT_SCALAR(payload, '$.pull_request.id')\n",
    "    ) AS item_id,\n",
    "    COALESCE(\n",
    "      JSON_EXTRACT_SCALAR(payload, '$.issue.url'),\n",
    "      JSON_EXTRACT_SCALAR(payload, '$.pull_request.url')\n",
    "    ) AS item_url,\n",
    "    # TODO Keep empty for comments\n",
    "    COALESCE(\n",
    "      JSON_EXTRACT_SCALAR(payload, '$.issue.title'),\n",
    "      JSON_EXTRACT_SCALAR(payload, '$.pull_request.title')\n",
    "    ) AS title,\n",
    "    COALESCE(\n",
    "      JSON_EXTRACT_SCALAR(payload, '$.comment.body'),\n",
    "      JSON_EXTRACT_SCALAR(payload, '$.issue.body'),\n",
    "      JSON_EXTRACT_SCALAR(payload, '$.pull_request.body')\n",
    "    ) AS body\n",
    "  FROM `{var_bigquery_table}`\n",
    "  WHERE\n",
    "    repo_id IN (\n",
    "      # Get all repos which the user has interacted with\n",
    "      SELECT repo_id\n",
    "      FROM `{var_bigquery_table}`\n",
    "      WHERE\n",
    "        actor_login = '{var_viewer_login}'\n",
    "        AND created_at BETWEEN '{var_date_min}' AND '{var_date_max}'\n",
    "      GROUP BY repo_id\n",
    "    )\n",
    "    AND created_at BETWEEN '{var_date_min}' AND '{var_date_max}'\n",
    "    AND type IN ('IssuesEvent', 'PullRequestEvent', 'IssueCommentEvent', 'PullRequestReviewCommentEvent', 'PullRequestCommentEvent')\n",
    ")\n",
    "\"\"\".format(\n",
    "    var_viewer_login=var_viewer_login,\n",
    "    var_bigquery_table=var_bigquery_table,\n",
    "    var_min_date=var_date_min.strftime('%Y-%m-%d'),\n",
    "    var_date_max=var_date_max.strftime('%Y-%m-%d')\n",
    "))\n",
    "# TODO Create view from query2"
   ]
  },
  {
   "cell_type": "code",
   "execution_count": 22,
   "metadata": {},
   "outputs": [
    {
     "name": "stdout",
     "output_type": "stream",
     "text": [
      "\n",
      "WITH\n",
      "all_events AS (\n",
      "  SELECT *\n",
      "  FROM `silverstripe.com:api-project-617183295772.github_silverstripe_events.events_chillu`\n",
      "),\n",
      "opened_events AS (\n",
      "  SELECT *\n",
      "  FROM `silverstripe.com:api-project-617183295772.github_silverstripe_events.events_chillu`\n",
      "  WHERE type IN ('IssuesEvent', 'PullRequestEvent') AND action = 'opened' \n",
      "  ORDER BY created_at ASC\n",
      "),\n",
      "viewer_events AS (\n",
      "  SELECT *\n",
      "  FROM `silverstripe.com:api-project-617183295772.github_silverstripe_events.events_chillu`\n",
      "  WHERE actor_login = 'chillu'\n",
      "  ORDER BY created_at ASC\n",
      "),\n",
      "repo_event_counts_by_actor AS (\n",
      "  SELECT\n",
      "  repo_id,\n",
      "  actor_login,\n",
      "  COUNT(*) AS event_count,\n",
      "  COUNTIF(type = 'IssuesEvent' AND action = 'opened') AS issues_opened_count,\n",
      "  COUNTIF(type = 'PullRequestEvent' AND action = 'opened') AS pull_requests_opened_count\n",
      "  FROM `silverstripe.com:api-project-617183295772.github_silverstripe_events.events_chillu`\n",
      "  WHERE created_at BETWEEN '2016-09-14' AND '2020-08-14'\n",
      "  GROUP BY 1,2\n",
      ")\n",
      "\n",
      "SELECT DISTINCT\n",
      "# Leading indicators (available on new items)\n",
      "opened_events.item_id,\n",
      "opened_events.item_url,\n",
      "opened_events.org_id,\n",
      "opened_events.repo_id,\n",
      "opened_events.actor_login AS creator_login,\n",
      "opened_events.type,\n",
      "opened_events.created_at,\n",
      "opened_events.is_at_mentioned,\n",
      "opened_events.title_chars_count,\n",
      "opened_events.body_chars_count,\n",
      "opened_events.markdown_chars_count,\n",
      "# Scoring indicators\n",
      "repo_event_counts_by_viewer.issues_opened_count AS viewer_repo_issues_opened_count,\n",
      "repo_event_counts_by_viewer.pull_requests_opened_count AS viewer_repo_pull_requests_opened_count,\n",
      "repo_event_counts_by_creator.issues_opened_count AS creator_repo_issues_opened_count,\n",
      "repo_event_counts_by_creator.pull_requests_opened_count AS creator_repo_pull_requests_opened_count,\n",
      "COUNTIF(all_events.actor_login = 'chillu') AS viewer_events_count,\n",
      "COUNTIF(all_events.is_comment = true AND all_events.actor_login = 'chillu') AS viewer_comments_count,\n",
      "# Trailing indicators (not available on newly created items)\n",
      "STRING_AGG(all_events.at_mentions) AS all_at_mentions,\n",
      "STRING_AGG(all_events.actor_login) AS all_actors,\n",
      "COUNT(all_events.id) AS events_count,\n",
      "COUNTIF(all_events.is_comment = true) AS comments_count,\n",
      "CHAR_LENGTH(STRING_AGG(all_events.body)) AS comments_body_count,\n",
      "SUM(all_events.at_mentions_count) AS at_mentions_count,\n",
      "COUNTIF(all_events.is_at_mentioned = true) AS viewer_at_mentions_count,\n",
      "(SELECT CHAR_LENGTH(STRING_AGG(viewer_events.body)) FROM viewer_events WHERE opened_events.item_id = viewer_events.item_id) AS viewer_comments_body_count\n",
      "# Due to the nature of event streams, the opened event might not be in the source data set (cutoff by date filter)\n",
      "FROM opened_events\n",
      "LEFT JOIN all_events\n",
      "    ON all_events.item_id = opened_events.item_id\n",
      "LEFT JOIN repo_event_counts_by_actor AS repo_event_counts_by_viewer\n",
      "  ON repo_event_counts_by_viewer.actor_login = 'chillu' AND opened_events.repo_id = repo_event_counts_by_viewer.repo_id\n",
      "LEFT JOIN repo_event_counts_by_actor AS repo_event_counts_by_creator\n",
      "  ON opened_events.actor_login = repo_event_counts_by_creator.actor_login AND opened_events.repo_id = repo_event_counts_by_creator.repo_id\n",
      "WHERE opened_events.created_at BETWEEN '2016-09-14' AND '2020-08-14'\n",
      "GROUP BY 1,2,3,4,5,6,7,8,9,10,11,12,13,14,15\n",
      "ORDER BY opened_events.created_at ASC\n",
      "\n"
     ]
    }
   ],
   "source": [
    "query3 = (\"\"\"\n",
    "WITH\n",
    "all_events AS (\n",
    "  SELECT *\n",
    "  FROM `{var_bigquery_table}`\n",
    "),\n",
    "opened_events AS (\n",
    "  SELECT *\n",
    "  FROM `{var_bigquery_table}`\n",
    "  WHERE type IN ('IssuesEvent', 'PullRequestEvent') AND action = 'opened' \n",
    "  ORDER BY created_at ASC\n",
    "),\n",
    "viewer_events AS (\n",
    "  SELECT *\n",
    "  FROM `{var_bigquery_table}`\n",
    "  WHERE actor_login = '{var_viewer_login}'\n",
    "  ORDER BY created_at ASC\n",
    "),\n",
    "repo_event_counts_by_actor AS (\n",
    "  SELECT\n",
    "  repo_id,\n",
    "  actor_login,\n",
    "  COUNT(*) AS event_count,\n",
    "  COUNTIF(type = 'IssuesEvent' AND action = 'opened') AS issues_opened_count,\n",
    "  COUNTIF(type = 'PullRequestEvent' AND action = 'opened') AS pull_requests_opened_count\n",
    "  FROM `{var_bigquery_table}`\n",
    "  WHERE created_at BETWEEN '{var_date_min}' AND '{var_date_max}'\n",
    "  GROUP BY 1,2\n",
    ")\n",
    "\n",
    "SELECT DISTINCT\n",
    "# Leading indicators (available on new items)\n",
    "opened_events.item_id,\n",
    "opened_events.item_url,\n",
    "opened_events.org_id,\n",
    "opened_events.repo_id,\n",
    "opened_events.actor_login AS creator_login,\n",
    "opened_events.type,\n",
    "opened_events.created_at,\n",
    "opened_events.is_at_mentioned,\n",
    "opened_events.title_chars_count,\n",
    "opened_events.body_chars_count,\n",
    "opened_events.markdown_chars_count,\n",
    "# Scoring indicators\n",
    "repo_event_counts_by_viewer.issues_opened_count AS viewer_repo_issues_opened_count,\n",
    "repo_event_counts_by_viewer.pull_requests_opened_count AS viewer_repo_pull_requests_opened_count,\n",
    "repo_event_counts_by_creator.issues_opened_count AS creator_repo_issues_opened_count,\n",
    "repo_event_counts_by_creator.pull_requests_opened_count AS creator_repo_pull_requests_opened_count,\n",
    "COUNTIF(all_events.actor_login = '{var_viewer_login}') AS viewer_events_count,\n",
    "COUNTIF(all_events.is_comment = true AND all_events.actor_login = '{var_viewer_login}') AS viewer_comments_count,\n",
    "# Trailing indicators (not available on newly created items)\n",
    "STRING_AGG(all_events.at_mentions) AS all_at_mentions,\n",
    "STRING_AGG(all_events.actor_login) AS all_actors,\n",
    "COUNT(all_events.id) AS events_count,\n",
    "COUNTIF(all_events.is_comment = true) AS comments_count,\n",
    "CHAR_LENGTH(STRING_AGG(all_events.body)) AS comments_body_count,\n",
    "SUM(all_events.at_mentions_count) AS at_mentions_count,\n",
    "COUNTIF(all_events.is_at_mentioned = true) AS viewer_at_mentions_count,\n",
    "(SELECT CHAR_LENGTH(STRING_AGG(viewer_events.body)) FROM viewer_events WHERE opened_events.item_id = viewer_events.item_id) AS viewer_comments_body_count\n",
    "# Due to the nature of event streams, the opened event might not be in the source data set (cutoff by date filter)\n",
    "FROM opened_events\n",
    "LEFT JOIN all_events\n",
    "    ON all_events.item_id = opened_events.item_id\n",
    "LEFT JOIN repo_event_counts_by_actor AS repo_event_counts_by_viewer\n",
    "  ON repo_event_counts_by_viewer.actor_login = '{var_viewer_login}' AND opened_events.repo_id = repo_event_counts_by_viewer.repo_id\n",
    "LEFT JOIN repo_event_counts_by_actor AS repo_event_counts_by_creator\n",
    "  ON opened_events.actor_login = repo_event_counts_by_creator.actor_login AND opened_events.repo_id = repo_event_counts_by_creator.repo_id\n",
    "WHERE opened_events.created_at BETWEEN '{var_date_min}' AND '{var_date_max}'\n",
    "GROUP BY 1,2,3,4,5,6,7,8,9,10,11,12,13,14,15\n",
    "ORDER BY opened_events.created_at ASC\n",
    "\"\"\".format(\n",
    "    var_viewer_login=var_viewer_login,\n",
    "    var_bigquery_table=var_bigquery_table,\n",
    "    var_date_min=var_date_min.strftime('%Y-%m-%d'),\n",
    "    var_date_max=var_date_max.strftime('%Y-%m-%d')\n",
    "))\n",
    "print(query3)"
   ]
  },
  {
   "cell_type": "code",
   "execution_count": 23,
   "metadata": {},
   "outputs": [],
   "source": [
    "# Fetch results if not already present\n",
    "if flush == True or not os.path.isfile(var_results_path):\n",
    "    client = bigquery.Client()\n",
    "    df = client.query(query3).to_dataframe()\n",
    "    df.to_csv(var_results_path)\n",
    "else:\n",
    "    df = pd.read_csv(var_results_path)"
   ]
  },
  {
   "cell_type": "code",
   "execution_count": 24,
   "metadata": {},
   "outputs": [
    {
     "data": {
      "text/html": [
       "<div>\n",
       "<style scoped>\n",
       "    .dataframe tbody tr th:only-of-type {\n",
       "        vertical-align: middle;\n",
       "    }\n",
       "\n",
       "    .dataframe tbody tr th {\n",
       "        vertical-align: top;\n",
       "    }\n",
       "\n",
       "    .dataframe thead th {\n",
       "        text-align: right;\n",
       "    }\n",
       "</style>\n",
       "<table border=\"1\" class=\"dataframe\">\n",
       "  <thead>\n",
       "    <tr style=\"text-align: right;\">\n",
       "      <th></th>\n",
       "      <th>item_id</th>\n",
       "      <th>item_url</th>\n",
       "      <th>org_id</th>\n",
       "      <th>repo_id</th>\n",
       "      <th>creator_login</th>\n",
       "      <th>type</th>\n",
       "      <th>created_at</th>\n",
       "      <th>is_at_mentioned</th>\n",
       "      <th>title_chars_count</th>\n",
       "      <th>body_chars_count</th>\n",
       "      <th>markdown_chars_count</th>\n",
       "      <th>viewer_repo_issues_opened_count</th>\n",
       "      <th>viewer_repo_pull_requests_opened_count</th>\n",
       "      <th>creator_repo_issues_opened_count</th>\n",
       "      <th>creator_repo_pull_requests_opened_count</th>\n",
       "      <th>viewer_events_count</th>\n",
       "      <th>viewer_comments_count</th>\n",
       "      <th>all_at_mentions</th>\n",
       "      <th>all_actors</th>\n",
       "      <th>events_count</th>\n",
       "      <th>comments_count</th>\n",
       "      <th>comments_body_count</th>\n",
       "      <th>at_mentions_count</th>\n",
       "      <th>viewer_at_mentions_count</th>\n",
       "      <th>viewer_comments_body_count</th>\n",
       "    </tr>\n",
       "  </thead>\n",
       "  <tbody>\n",
       "    <tr>\n",
       "      <th>0</th>\n",
       "      <td>176782203</td>\n",
       "      <td>https://api.github.com/repos/silverstripe/silverstripe-asset-admin/issues/251</td>\n",
       "      <td>379348.0</td>\n",
       "      <td>42913926</td>\n",
       "      <td>chillu</td>\n",
       "      <td>IssuesEvent</td>\n",
       "      <td>2016-09-14 00:06:58+00:00</td>\n",
       "      <td>False</td>\n",
       "      <td>74</td>\n",
       "      <td>1488.0</td>\n",
       "      <td>0.0</td>\n",
       "      <td>40.0</td>\n",
       "      <td>16.0</td>\n",
       "      <td>40</td>\n",
       "      <td>16</td>\n",
       "      <td>3</td>\n",
       "      <td>1</td>\n",
       "      <td>,,,</td>\n",
       "      <td>chillu,chillu,flamerohr,chillu</td>\n",
       "      <td>4</td>\n",
       "      <td>2</td>\n",
       "      <td>3926.0</td>\n",
       "      <td>0.0</td>\n",
       "      <td>0</td>\n",
       "      <td>3388.0</td>\n",
       "    </tr>\n",
       "    <tr>\n",
       "      <th>1</th>\n",
       "      <td>85159970</td>\n",
       "      <td>https://api.github.com/repos/silverstripe/silverstripe-framework/pulls/6002</td>\n",
       "      <td>379348.0</td>\n",
       "      <td>1318892</td>\n",
       "      <td>chillu</td>\n",
       "      <td>PullRequestEvent</td>\n",
       "      <td>2016-09-14 03:07:32+00:00</td>\n",
       "      <td>False</td>\n",
       "      <td>35</td>\n",
       "      <td>170.0</td>\n",
       "      <td>0.0</td>\n",
       "      <td>120.0</td>\n",
       "      <td>124.0</td>\n",
       "      <td>120</td>\n",
       "      <td>124</td>\n",
       "      <td>2</td>\n",
       "      <td>0</td>\n",
       "      <td>,</td>\n",
       "      <td>chillu,chillu</td>\n",
       "      <td>2</td>\n",
       "      <td>0</td>\n",
       "      <td>341.0</td>\n",
       "      <td>0.0</td>\n",
       "      <td>0</td>\n",
       "      <td>341.0</td>\n",
       "    </tr>\n",
       "    <tr>\n",
       "      <th>2</th>\n",
       "      <td>85160347</td>\n",
       "      <td>https://api.github.com/repos/silverstripe/silverstripe-framework/pulls/6003</td>\n",
       "      <td>379348.0</td>\n",
       "      <td>1318892</td>\n",
       "      <td>clarkepaul</td>\n",
       "      <td>PullRequestEvent</td>\n",
       "      <td>2016-09-14 03:13:09+00:00</td>\n",
       "      <td>False</td>\n",
       "      <td>43</td>\n",
       "      <td>363.0</td>\n",
       "      <td>0.0</td>\n",
       "      <td>120.0</td>\n",
       "      <td>124.0</td>\n",
       "      <td>48</td>\n",
       "      <td>13</td>\n",
       "      <td>1</td>\n",
       "      <td>0</td>\n",
       "      <td>,</td>\n",
       "      <td>clarkepaul,chillu</td>\n",
       "      <td>2</td>\n",
       "      <td>0</td>\n",
       "      <td>727.0</td>\n",
       "      <td>0.0</td>\n",
       "      <td>0</td>\n",
       "      <td>363.0</td>\n",
       "    </tr>\n",
       "    <tr>\n",
       "      <th>3</th>\n",
       "      <td>176812424</td>\n",
       "      <td>https://api.github.com/repos/silverstripe/silverstripe-framework/issues/6004</td>\n",
       "      <td>379348.0</td>\n",
       "      <td>1318892</td>\n",
       "      <td>clarkepaul</td>\n",
       "      <td>IssuesEvent</td>\n",
       "      <td>2016-09-14 04:31:50+00:00</td>\n",
       "      <td>False</td>\n",
       "      <td>49</td>\n",
       "      <td>111.0</td>\n",
       "      <td>0.0</td>\n",
       "      <td>120.0</td>\n",
       "      <td>124.0</td>\n",
       "      <td>48</td>\n",
       "      <td>13</td>\n",
       "      <td>0</td>\n",
       "      <td>0</td>\n",
       "      <td>,,,</td>\n",
       "      <td>tractorcow,clarkepaul,flamerohr,tractorcow</td>\n",
       "      <td>4</td>\n",
       "      <td>2</td>\n",
       "      <td>377.0</td>\n",
       "      <td>0.0</td>\n",
       "      <td>0</td>\n",
       "      <td>NaN</td>\n",
       "    </tr>\n",
       "    <tr>\n",
       "      <th>4</th>\n",
       "      <td>85165423</td>\n",
       "      <td>https://api.github.com/repos/silverstripe/silverstripe-frameworktest/pulls/23</td>\n",
       "      <td>379348.0</td>\n",
       "      <td>1296840</td>\n",
       "      <td>chillu</td>\n",
       "      <td>PullRequestEvent</td>\n",
       "      <td>2016-09-14 04:32:14+00:00</td>\n",
       "      <td>False</td>\n",
       "      <td>26</td>\n",
       "      <td>87.0</td>\n",
       "      <td>0.0</td>\n",
       "      <td>6.0</td>\n",
       "      <td>17.0</td>\n",
       "      <td>6</td>\n",
       "      <td>17</td>\n",
       "      <td>1</td>\n",
       "      <td>0</td>\n",
       "      <td>,</td>\n",
       "      <td>dhensby,chillu</td>\n",
       "      <td>2</td>\n",
       "      <td>0</td>\n",
       "      <td>175.0</td>\n",
       "      <td>0.0</td>\n",
       "      <td>0</td>\n",
       "      <td>87.0</td>\n",
       "    </tr>\n",
       "  </tbody>\n",
       "</table>\n",
       "</div>"
      ],
      "text/plain": [
       "     item_id  \\\n",
       "0  176782203   \n",
       "1   85159970   \n",
       "2   85160347   \n",
       "3  176812424   \n",
       "4   85165423   \n",
       "\n",
       "                                                                        item_url  \\\n",
       "0  https://api.github.com/repos/silverstripe/silverstripe-asset-admin/issues/251   \n",
       "1    https://api.github.com/repos/silverstripe/silverstripe-framework/pulls/6002   \n",
       "2    https://api.github.com/repos/silverstripe/silverstripe-framework/pulls/6003   \n",
       "3   https://api.github.com/repos/silverstripe/silverstripe-framework/issues/6004   \n",
       "4  https://api.github.com/repos/silverstripe/silverstripe-frameworktest/pulls/23   \n",
       "\n",
       "     org_id   repo_id creator_login              type  \\\n",
       "0  379348.0  42913926        chillu       IssuesEvent   \n",
       "1  379348.0   1318892        chillu  PullRequestEvent   \n",
       "2  379348.0   1318892    clarkepaul  PullRequestEvent   \n",
       "3  379348.0   1318892    clarkepaul       IssuesEvent   \n",
       "4  379348.0   1296840        chillu  PullRequestEvent   \n",
       "\n",
       "                 created_at  is_at_mentioned  title_chars_count  \\\n",
       "0 2016-09-14 00:06:58+00:00            False                 74   \n",
       "1 2016-09-14 03:07:32+00:00            False                 35   \n",
       "2 2016-09-14 03:13:09+00:00            False                 43   \n",
       "3 2016-09-14 04:31:50+00:00            False                 49   \n",
       "4 2016-09-14 04:32:14+00:00            False                 26   \n",
       "\n",
       "   body_chars_count  markdown_chars_count  viewer_repo_issues_opened_count  \\\n",
       "0            1488.0                   0.0                             40.0   \n",
       "1             170.0                   0.0                            120.0   \n",
       "2             363.0                   0.0                            120.0   \n",
       "3             111.0                   0.0                            120.0   \n",
       "4              87.0                   0.0                              6.0   \n",
       "\n",
       "   viewer_repo_pull_requests_opened_count  creator_repo_issues_opened_count  \\\n",
       "0                                    16.0                                40   \n",
       "1                                   124.0                               120   \n",
       "2                                   124.0                                48   \n",
       "3                                   124.0                                48   \n",
       "4                                    17.0                                 6   \n",
       "\n",
       "   creator_repo_pull_requests_opened_count  viewer_events_count  \\\n",
       "0                                       16                    3   \n",
       "1                                      124                    2   \n",
       "2                                       13                    1   \n",
       "3                                       13                    0   \n",
       "4                                       17                    1   \n",
       "\n",
       "   viewer_comments_count all_at_mentions  \\\n",
       "0                      1             ,,,   \n",
       "1                      0               ,   \n",
       "2                      0               ,   \n",
       "3                      0             ,,,   \n",
       "4                      0               ,   \n",
       "\n",
       "                                   all_actors  events_count  comments_count  \\\n",
       "0              chillu,chillu,flamerohr,chillu             4               2   \n",
       "1                               chillu,chillu             2               0   \n",
       "2                           clarkepaul,chillu             2               0   \n",
       "3  tractorcow,clarkepaul,flamerohr,tractorcow             4               2   \n",
       "4                              dhensby,chillu             2               0   \n",
       "\n",
       "   comments_body_count  at_mentions_count  viewer_at_mentions_count  \\\n",
       "0               3926.0                0.0                         0   \n",
       "1                341.0                0.0                         0   \n",
       "2                727.0                0.0                         0   \n",
       "3                377.0                0.0                         0   \n",
       "4                175.0                0.0                         0   \n",
       "\n",
       "   viewer_comments_body_count  \n",
       "0                      3388.0  \n",
       "1                       341.0  \n",
       "2                       363.0  \n",
       "3                         NaN  \n",
       "4                        87.0  "
      ]
     },
     "execution_count": 24,
     "metadata": {},
     "output_type": "execute_result"
    }
   ],
   "source": [
    "# Preview raw data\n",
    "pd.set_option('display.max_columns', None)\n",
    "df.head()"
   ]
  },
  {
   "cell_type": "code",
   "execution_count": 25,
   "metadata": {},
   "outputs": [],
   "source": [
    "# Duplicate any items without \"temporal\" data.\n",
    "# The model should be able to perform well on newly created issues\n",
    "# without penalising them for not having any events (yet)\n",
    "temporal_overrides = {\n",
    "  'events_count': 0,\n",
    "  'comments_count': 0,\n",
    "  'comments_body_count': 0,\n",
    "}\n",
    "df_fresh = df.copy().assign(**temporal_overrides)\n",
    "# Avoid index clashes and make altered rows identifiable during validation\n",
    "df_fresh['item_url'] = df_fresh['item_url']  + '__fresh'\n",
    "df = df.append(df_fresh)\n",
    "df = df.set_index('item_url')"
   ]
  },
  {
   "cell_type": "code",
   "execution_count": 26,
   "metadata": {},
   "outputs": [],
   "source": [
    "df = preprocess(df)"
   ]
  },
  {
   "cell_type": "code",
   "execution_count": 27,
   "metadata": {},
   "outputs": [],
   "source": [
    "# Preview some values used for scoring\n",
    "scoring = {\n",
    "#     'viewer_events_count': 1, \n",
    "#     'viewer_comments_count': 2, \n",
    "    'viewer_comments_body_count': 1\n",
    "}\n",
    "scoring_fields = list(scoring.keys())"
   ]
  },
  {
   "cell_type": "code",
   "execution_count": 28,
   "metadata": {
    "scrolled": true
   },
   "outputs": [
    {
     "data": {
      "text/plain": [
       "<AxesSubplot:>"
      ]
     },
     "execution_count": 28,
     "metadata": {},
     "output_type": "execute_result"
    },
    {
     "data": {
      "image/png": "[encoded data removed]",
      "text/plain": [
       "<Figure size 1080x216 with 1 Axes>"
      ]
     },
     "metadata": {
      "needs_background": "light"
     },
     "output_type": "display_data"
    }
   ],
   "source": [
    "# Explore data distribution to get intuition on scoring\n",
    "# Even after removing outliers in preprocessing,\n",
    "# the two ranges have very different dimensionality without normalisation.\n",
    "df[scoring_fields].where(df[scoring_fields] > 0).plot.box(vert=False,figsize=(15,3))"
   ]
  },
  {
   "cell_type": "code",
   "execution_count": 29,
   "metadata": {},
   "outputs": [
    {
     "data": {
      "text/plain": [
       "<AxesSubplot:>"
      ]
     },
     "execution_count": 29,
     "metadata": {},
     "output_type": "execute_result"
    },
    {
     "data": {
      "image/png": "[encoded data removed]",
      "text/plain": [
       "<Figure size 1080x216 with 1 Axes>"
      ]
     },
     "metadata": {
      "needs_background": "light"
     },
     "output_type": "display_data"
    }
   ],
   "source": [
    "# Naive min-max normalisation to avoid one feature overly influencing the scoring\n",
    "df[scoring_fields] = df[scoring_fields].apply(normalise)\n",
    "df[scoring_fields].where(df[scoring_fields] > 0).plot.box(vert=False,figsize=(15,3))"
   ]
  },
  {
   "cell_type": "code",
   "execution_count": 30,
   "metadata": {},
   "outputs": [],
   "source": [
    "# Calculate score with different weights\n",
    "# TODO Use apply() and add()\n",
    "scoring_weights = list(scoring.values())\n",
    "df['score'] = normalise(\n",
    "    df[scoring_fields[0]] * scoring_weights[0]\n",
    "#     + df[scoring_fields[1]] * scoring_weights[1]\n",
    "#     + df[scoring_fields[2]] * scoring_weights[2]\n",
    ")\n",
    "df[scoring_fields + ['score']].sort_values(by='score', ascending=False).head()\n",
    "\n",
    "# Optionally use score as a categorical value, lower fidelity but also lower noise\n",
    "if use_cat:\n",
    "    df['score'] = df['score'].apply(lambda x: 1 if x > 0 else 0)"
   ]
  },
  {
   "cell_type": "code",
   "execution_count": 31,
   "metadata": {},
   "outputs": [
    {
     "data": {
      "text/plain": [
       "<AxesSubplot:>"
      ]
     },
     "execution_count": 31,
     "metadata": {},
     "output_type": "execute_result"
    },
    {
     "data": {
      "image/png": "[encoded data removed]",
      "text/plain": [
       "<Figure size 1080x216 with 1 Axes>"
      ]
     },
     "metadata": {
      "needs_background": "light"
     },
     "output_type": "display_data"
    }
   ],
   "source": [
    "# Scoring distribution (excl. zeroes)\n",
    "# It's skewed to lower scores, since low interactions are more common than high interactions\n",
    "df['score'].where(df['score'] > 0).plot.box(vert=False,figsize=(15,3))"
   ]
  },
  {
   "cell_type": "code",
   "execution_count": 32,
   "metadata": {},
   "outputs": [
    {
     "data": {
      "text/plain": [
       "<AxesSubplot:ylabel='Frequency'>"
      ]
     },
     "execution_count": 32,
     "metadata": {},
     "output_type": "execute_result"
    },
    {
     "data": {
      "image/png": "[encoded data removed]",
      "text/plain": [
       "<Figure size 432x288 with 1 Axes>"
      ]
     },
     "metadata": {
      "needs_background": "light"
     },
     "output_type": "display_data"
    }
   ],
   "source": [
    "# Scoring histogram (incl. zeroes)\n",
    "# There are way more items where the actor has never interacted (score=0)\n",
    "df['score'].plot.hist()"
   ]
  },
  {
   "cell_type": "code",
   "execution_count": 33,
   "metadata": {},
   "outputs": [
    {
     "data": {
      "text/plain": [
       "0.8889847951663237"
      ]
     },
     "execution_count": 33,
     "metadata": {},
     "output_type": "execute_result"
    }
   ],
   "source": [
    "# Percentage of rows where score=0\n",
    "len(df[df['score'] == 0]) / len(df)"
   ]
  },
  {
   "cell_type": "code",
   "execution_count": 34,
   "metadata": {},
   "outputs": [],
   "source": [
    "# Don't include scoring_fields in here since that would be cheating\n",
    "cat_names = [\n",
    "  'org_id',\n",
    "  'repo_id',\n",
    "  'creator_login',\n",
    "#   'type',\n",
    "#   'is_at_mentioned',\n",
    "]\n",
    "cont_names = [\n",
    "#   'title_chars_count',\n",
    "#   'body_chars_count',\n",
    "#   'markdown_chars_count',\n",
    "#   'viewer_repo_issues_opened_count',\n",
    "#   'viewer_repo_pull_requests_opened_count',\n",
    "#   'creator_repo_issues_opened_count',\n",
    "#   'creator_repo_pull_requests_opened_count',\n",
    "#   'events_count',\n",
    "#   'comments_count',\n",
    "#   'comments_body_count',\n",
    "#   'viewer_at_mentions_count',\n",
    "#   'at_mentions_count',\n",
    "]"
   ]
  },
  {
   "cell_type": "code",
   "execution_count": 35,
   "metadata": {},
   "outputs": [],
   "source": [
    "# Create fast.ai (PyTorch) data set\n",
    "splits = RandomSplitter(valid_pct=0.2)(range_of(df))\n",
    "tp = TabularPandas(\n",
    "    df,\n",
    "    cat_names=cat_names,\n",
    "    cont_names=cont_names,\n",
    "    procs=[\n",
    "      FillMissing,\n",
    "      Categorify,\n",
    "      Normalize\n",
    "    ],\n",
    "    y_names='score',\n",
    "    # Optionally use score as a categorical value, lower fidelity but also lower noise\n",
    "    y_block=CategoryBlock if use_cat else None,\n",
    "    splits=splits\n",
    ")"
   ]
  },
  {
   "cell_type": "code",
   "execution_count": 36,
   "metadata": {},
   "outputs": [],
   "source": [
    "# Alternative approach: Decision trees\n",
    "# Couldn't get accuracy above 0.51\n",
    "# from sklearn import ensemble\n",
    "# xs,y = tp.train.xs,tp.train.y\n",
    "# valid_xs,valid_y = tp.valid.xs,tp.valid.y\n",
    "# def rf(n_estimators=1000, max_samples=20000,\n",
    "#        max_features=0.5, min_samples_leaf=20, **kwargs):\n",
    "#     return ensemble.RandomForestRegressor(n_jobs=-1, n_estimators=n_estimators,\n",
    "#         max_samples=max_samples, max_features=max_features,\n",
    "#         min_samples_leaf=min_samples_leaf, oob_score=True)\n",
    "# model = rf()\n",
    "# model.fit(xs, y)\n",
    "# model.score(valid_xs, valid_y)"
   ]
  },
  {
   "cell_type": "code",
   "execution_count": 37,
   "metadata": {},
   "outputs": [],
   "source": [
    "learn = tabular_learner(tp.dataloaders(bs=64), metrics=accuracy)"
   ]
  },
  {
   "cell_type": "code",
   "execution_count": 38,
   "metadata": {},
   "outputs": [
    {
     "data": {
      "text/html": [],
      "text/plain": [
       "<IPython.core.display.HTML object>"
      ]
     },
     "metadata": {},
     "output_type": "display_data"
    },
    {
     "data": {
      "text/plain": [
       "SuggestedLRs(lr_min=0.003981071710586548, lr_steep=1.9054607491852948e-06)"
      ]
     },
     "execution_count": 38,
     "metadata": {},
     "output_type": "execute_result"
    },
    {
     "data": {
      "image/png": "[encoded data removed]",
      "text/plain": [
       "<Figure size 432x288 with 1 Axes>"
      ]
     },
     "metadata": {
      "needs_background": "light"
     },
     "output_type": "display_data"
    }
   ],
   "source": [
    "# Intuit the learning rate\n",
    "learn.lr_find()"
   ]
  },
  {
   "cell_type": "code",
   "execution_count": 39,
   "metadata": {
    "scrolled": false
   },
   "outputs": [
    {
     "data": {
      "text/html": [
       "<table border=\"1\" class=\"dataframe\">\n",
       "  <thead>\n",
       "    <tr style=\"text-align: left;\">\n",
       "      <th>epoch</th>\n",
       "      <th>train_loss</th>\n",
       "      <th>valid_loss</th>\n",
       "      <th>accuracy</th>\n",
       "      <th>time</th>\n",
       "    </tr>\n",
       "  </thead>\n",
       "  <tbody>\n",
       "    <tr>\n",
       "      <td>0</td>\n",
       "      <td>0.038602</td>\n",
       "      <td>0.037676</td>\n",
       "      <td>0.890106</td>\n",
       "      <td>00:05</td>\n",
       "    </tr>\n",
       "  </tbody>\n",
       "</table>"
      ],
      "text/plain": [
       "<IPython.core.display.HTML object>"
      ]
     },
     "metadata": {},
     "output_type": "display_data"
    }
   ],
   "source": [
    "learn.fit_one_cycle(1, lr=1e-4)"
   ]
  },
  {
   "cell_type": "code",
   "execution_count": 40,
   "metadata": {
    "scrolled": true
   },
   "outputs": [
    {
     "data": {
      "text/html": [],
      "text/plain": [
       "<IPython.core.display.HTML object>"
      ]
     },
     "metadata": {},
     "output_type": "display_data"
    },
    {
     "data": {
      "text/html": [
       "<table border=\"1\" class=\"dataframe\">\n",
       "  <thead>\n",
       "    <tr style=\"text-align: right;\">\n",
       "      <th></th>\n",
       "      <th>org_id</th>\n",
       "      <th>repo_id</th>\n",
       "      <th>creator_login</th>\n",
       "      <th>score</th>\n",
       "      <th>score_pred</th>\n",
       "    </tr>\n",
       "  </thead>\n",
       "  <tbody>\n",
       "    <tr>\n",
       "      <th>0</th>\n",
       "      <td>4.0</td>\n",
       "      <td>21.0</td>\n",
       "      <td>350.0</td>\n",
       "      <td>0.0</td>\n",
       "      <td>0.049475</td>\n",
       "    </tr>\n",
       "    <tr>\n",
       "      <th>1</th>\n",
       "      <td>4.0</td>\n",
       "      <td>20.0</td>\n",
       "      <td>277.0</td>\n",
       "      <td>1.0</td>\n",
       "      <td>0.088244</td>\n",
       "    </tr>\n",
       "    <tr>\n",
       "      <th>2</th>\n",
       "      <td>8.0</td>\n",
       "      <td>74.0</td>\n",
       "      <td>579.0</td>\n",
       "      <td>0.0</td>\n",
       "      <td>-0.004491</td>\n",
       "    </tr>\n",
       "    <tr>\n",
       "      <th>3</th>\n",
       "      <td>4.0</td>\n",
       "      <td>20.0</td>\n",
       "      <td>521.0</td>\n",
       "      <td>0.0</td>\n",
       "      <td>0.095061</td>\n",
       "    </tr>\n",
       "    <tr>\n",
       "      <th>4</th>\n",
       "      <td>13.0</td>\n",
       "      <td>29.0</td>\n",
       "      <td>269.0</td>\n",
       "      <td>0.0</td>\n",
       "      <td>0.019207</td>\n",
       "    </tr>\n",
       "    <tr>\n",
       "      <th>5</th>\n",
       "      <td>4.0</td>\n",
       "      <td>99.0</td>\n",
       "      <td>267.0</td>\n",
       "      <td>1.0</td>\n",
       "      <td>0.738244</td>\n",
       "    </tr>\n",
       "    <tr>\n",
       "      <th>6</th>\n",
       "      <td>4.0</td>\n",
       "      <td>20.0</td>\n",
       "      <td>768.0</td>\n",
       "      <td>0.0</td>\n",
       "      <td>0.230821</td>\n",
       "    </tr>\n",
       "    <tr>\n",
       "      <th>7</th>\n",
       "      <td>4.0</td>\n",
       "      <td>18.0</td>\n",
       "      <td>768.0</td>\n",
       "      <td>0.0</td>\n",
       "      <td>0.045684</td>\n",
       "    </tr>\n",
       "    <tr>\n",
       "      <th>8</th>\n",
       "      <td>4.0</td>\n",
       "      <td>102.0</td>\n",
       "      <td>650.0</td>\n",
       "      <td>0.0</td>\n",
       "      <td>0.061512</td>\n",
       "    </tr>\n",
       "  </tbody>\n",
       "</table>"
      ],
      "text/plain": [
       "<IPython.core.display.HTML object>"
      ]
     },
     "metadata": {},
     "output_type": "display_data"
    }
   ],
   "source": [
    "learn.show_results()"
   ]
  },
  {
   "cell_type": "code",
   "execution_count": 105,
   "metadata": {},
   "outputs": [
    {
     "data": {
      "text/html": [],
      "text/plain": [
       "<IPython.core.display.HTML object>"
      ]
     },
     "metadata": {},
     "output_type": "display_data"
    },
    {
     "data": {
      "text/html": [
       "<div>\n",
       "<style scoped>\n",
       "    .dataframe tbody tr th:only-of-type {\n",
       "        vertical-align: middle;\n",
       "    }\n",
       "\n",
       "    .dataframe tbody tr th {\n",
       "        vertical-align: top;\n",
       "    }\n",
       "\n",
       "    .dataframe thead th {\n",
       "        text-align: right;\n",
       "    }\n",
       "</style>\n",
       "<table border=\"1\" class=\"dataframe\">\n",
       "  <thead>\n",
       "    <tr style=\"text-align: right;\">\n",
       "      <th></th>\n",
       "      <th>org_id</th>\n",
       "      <th>repo_id</th>\n",
       "      <th>actor_login</th>\n",
       "      <th>score</th>\n",
       "      <th>loss</th>\n",
       "    </tr>\n",
       "    <tr>\n",
       "      <th>item_url</th>\n",
       "      <th></th>\n",
       "      <th></th>\n",
       "      <th></th>\n",
       "      <th></th>\n",
       "      <th></th>\n",
       "    </tr>\n",
       "  </thead>\n",
       "  <tbody>\n",
       "    <tr>\n",
       "      <th>https://api.github.com/repos/silverstripe/silverstripe-cms/issues/2227__fresh</th>\n",
       "      <td>379348</td>\n",
       "      <td>1319183</td>\n",
       "      <td>kinglozzer</td>\n",
       "      <td>1.0</td>\n",
       "      <td>1.024026e+00</td>\n",
       "    </tr>\n",
       "    <tr>\n",
       "      <th>https://api.github.com/repos/dnadesign/silverstripe-elemental/issues/269__fresh</th>\n",
       "      <td>2.14831e+06</td>\n",
       "      <td>23339883</td>\n",
       "      <td>brynwhyman</td>\n",
       "      <td>1.0</td>\n",
       "      <td>1.021998e+00</td>\n",
       "    </tr>\n",
       "    <tr>\n",
       "      <th>https://api.github.com/repos/silverstripe/silverstripe-admin/pulls/58</th>\n",
       "      <td>379348</td>\n",
       "      <td>84500508</td>\n",
       "      <td>flamerohr</td>\n",
       "      <td>1.0</td>\n",
       "      <td>1.021730e+00</td>\n",
       "    </tr>\n",
       "    <tr>\n",
       "      <th>https://api.github.com/repos/silverstripe/silverstripe-framework/issues/7791</th>\n",
       "      <td>379348</td>\n",
       "      <td>1318892</td>\n",
       "      <td>andrewandante</td>\n",
       "      <td>1.0</td>\n",
       "      <td>1.003415e+00</td>\n",
       "    </tr>\n",
       "    <tr>\n",
       "      <th>https://api.github.com/repos/silverstripe/silverstripe-mfa/issues/36</th>\n",
       "      <td>379348</td>\n",
       "      <td>172815373</td>\n",
       "      <td>brynwhyman</td>\n",
       "      <td>1.0</td>\n",
       "      <td>9.982002e-01</td>\n",
       "    </tr>\n",
       "    <tr>\n",
       "      <th>...</th>\n",
       "      <td>...</td>\n",
       "      <td>...</td>\n",
       "      <td>...</td>\n",
       "      <td>...</td>\n",
       "      <td>...</td>\n",
       "    </tr>\n",
       "    <tr>\n",
       "      <th>https://api.github.com/repos/silverstripe/silverstripe-postgresql/pulls/81</th>\n",
       "      <td>379348</td>\n",
       "      <td>1236928</td>\n",
       "      <td>robbieaverill</td>\n",
       "      <td>0.0</td>\n",
       "      <td>6.710071e-08</td>\n",
       "    </tr>\n",
       "    <tr>\n",
       "      <th>https://api.github.com/repos/silverstripe/silverstripe-postgresql/pulls/82</th>\n",
       "      <td>379348</td>\n",
       "      <td>1236928</td>\n",
       "      <td>robbieaverill</td>\n",
       "      <td>0.0</td>\n",
       "      <td>6.710071e-08</td>\n",
       "    </tr>\n",
       "    <tr>\n",
       "      <th>https://api.github.com/repos/silverstripe/silverstripe-intercom/pulls/16__fresh</th>\n",
       "      <td>379348</td>\n",
       "      <td>51967116</td>\n",
       "      <td>lexakami</td>\n",
       "      <td>0.0</td>\n",
       "      <td>2.519786e-08</td>\n",
       "    </tr>\n",
       "    <tr>\n",
       "      <th>https://api.github.com/repos/silverstripe/silverstripe-subsites/pulls/277</th>\n",
       "      <td>379348</td>\n",
       "      <td>1236940</td>\n",
       "      <td>DarrenInwood</td>\n",
       "      <td>0.0</td>\n",
       "      <td>1.819103e-08</td>\n",
       "    </tr>\n",
       "    <tr>\n",
       "      <th>https://api.github.com/repos/silvershop/silvershop-core/issues/555__fresh</th>\n",
       "      <td>1.66754e+07</td>\n",
       "      <td>3253527</td>\n",
       "      <td>sanderha</td>\n",
       "      <td>0.0</td>\n",
       "      <td>1.005032e-08</td>\n",
       "    </tr>\n",
       "  </tbody>\n",
       "</table>\n",
       "<p>6030 rows × 5 columns</p>\n",
       "</div>"
      ],
      "text/plain": [
       "                                                                                      org_id  \\\n",
       "item_url                                                                                       \n",
       "https://api.github.com/repos/silverstripe/silverstripe-cms/issues/2227__fresh         379348   \n",
       "https://api.github.com/repos/dnadesign/silverstripe-elemental/issues/269__fresh  2.14831e+06   \n",
       "https://api.github.com/repos/silverstripe/silverstripe-admin/pulls/58                 379348   \n",
       "https://api.github.com/repos/silverstripe/silverstripe-framework/issues/7791          379348   \n",
       "https://api.github.com/repos/silverstripe/silverstripe-mfa/issues/36                  379348   \n",
       "...                                                                                      ...   \n",
       "https://api.github.com/repos/silverstripe/silverstripe-postgresql/pulls/81            379348   \n",
       "https://api.github.com/repos/silverstripe/silverstripe-postgresql/pulls/82            379348   \n",
       "https://api.github.com/repos/silverstripe/silverstripe-intercom/pulls/16__fresh       379348   \n",
       "https://api.github.com/repos/silverstripe/silverstripe-subsites/pulls/277             379348   \n",
       "https://api.github.com/repos/silvershop/silvershop-core/issues/555__fresh        1.66754e+07   \n",
       "\n",
       "                                                                                   repo_id  \\\n",
       "item_url                                                                                     \n",
       "https://api.github.com/repos/silverstripe/silverstripe-cms/issues/2227__fresh      1319183   \n",
       "https://api.github.com/repos/dnadesign/silverstripe-elemental/issues/269__fresh   23339883   \n",
       "https://api.github.com/repos/silverstripe/silverstripe-admin/pulls/58             84500508   \n",
       "https://api.github.com/repos/silverstripe/silverstripe-framework/issues/7791       1318892   \n",
       "https://api.github.com/repos/silverstripe/silverstripe-mfa/issues/36             172815373   \n",
       "...                                                                                    ...   \n",
       "https://api.github.com/repos/silverstripe/silverstripe-postgresql/pulls/81         1236928   \n",
       "https://api.github.com/repos/silverstripe/silverstripe-postgresql/pulls/82         1236928   \n",
       "https://api.github.com/repos/silverstripe/silverstripe-intercom/pulls/16__fresh   51967116   \n",
       "https://api.github.com/repos/silverstripe/silverstripe-subsites/pulls/277          1236940   \n",
       "https://api.github.com/repos/silvershop/silvershop-core/issues/555__fresh          3253527   \n",
       "\n",
       "                                                                                   actor_login  \\\n",
       "item_url                                                                                         \n",
       "https://api.github.com/repos/silverstripe/silverstripe-cms/issues/2227__fresh       kinglozzer   \n",
       "https://api.github.com/repos/dnadesign/silverstripe-elemental/issues/269__fresh     brynwhyman   \n",
       "https://api.github.com/repos/silverstripe/silverstripe-admin/pulls/58                flamerohr   \n",
       "https://api.github.com/repos/silverstripe/silverstripe-framework/issues/7791     andrewandante   \n",
       "https://api.github.com/repos/silverstripe/silverstripe-mfa/issues/36                brynwhyman   \n",
       "...                                                                                        ...   \n",
       "https://api.github.com/repos/silverstripe/silverstripe-postgresql/pulls/81       robbieaverill   \n",
       "https://api.github.com/repos/silverstripe/silverstripe-postgresql/pulls/82       robbieaverill   \n",
       "https://api.github.com/repos/silverstripe/silverstripe-intercom/pulls/16__fresh       lexakami   \n",
       "https://api.github.com/repos/silverstripe/silverstripe-subsites/pulls/277         DarrenInwood   \n",
       "https://api.github.com/repos/silvershop/silvershop-core/issues/555__fresh             sanderha   \n",
       "\n",
       "                                                                                 score  \\\n",
       "item_url                                                                                 \n",
       "https://api.github.com/repos/silverstripe/silverstripe-cms/issues/2227__fresh      1.0   \n",
       "https://api.github.com/repos/dnadesign/silverstripe-elemental/issues/269__fresh    1.0   \n",
       "https://api.github.com/repos/silverstripe/silverstripe-admin/pulls/58              1.0   \n",
       "https://api.github.com/repos/silverstripe/silverstripe-framework/issues/7791       1.0   \n",
       "https://api.github.com/repos/silverstripe/silverstripe-mfa/issues/36               1.0   \n",
       "...                                                                                ...   \n",
       "https://api.github.com/repos/silverstripe/silverstripe-postgresql/pulls/81         0.0   \n",
       "https://api.github.com/repos/silverstripe/silverstripe-postgresql/pulls/82         0.0   \n",
       "https://api.github.com/repos/silverstripe/silverstripe-intercom/pulls/16__fresh    0.0   \n",
       "https://api.github.com/repos/silverstripe/silverstripe-subsites/pulls/277          0.0   \n",
       "https://api.github.com/repos/silvershop/silvershop-core/issues/555__fresh          0.0   \n",
       "\n",
       "                                                                                         loss  \n",
       "item_url                                                                                       \n",
       "https://api.github.com/repos/silverstripe/silverstripe-cms/issues/2227__fresh    1.024026e+00  \n",
       "https://api.github.com/repos/dnadesign/silverstripe-elemental/issues/269__fresh  1.021998e+00  \n",
       "https://api.github.com/repos/silverstripe/silverstripe-admin/pulls/58            1.021730e+00  \n",
       "https://api.github.com/repos/silverstripe/silverstripe-framework/issues/7791     1.003415e+00  \n",
       "https://api.github.com/repos/silverstripe/silverstripe-mfa/issues/36             9.982002e-01  \n",
       "...                                                                                       ...  \n",
       "https://api.github.com/repos/silverstripe/silverstripe-postgresql/pulls/81       6.710071e-08  \n",
       "https://api.github.com/repos/silverstripe/silverstripe-postgresql/pulls/82       6.710071e-08  \n",
       "https://api.github.com/repos/silverstripe/silverstripe-intercom/pulls/16__fresh  2.519786e-08  \n",
       "https://api.github.com/repos/silverstripe/silverstripe-subsites/pulls/277        1.819103e-08  \n",
       "https://api.github.com/repos/silvershop/silvershop-core/issues/555__fresh        1.005032e-08  \n",
       "\n",
       "[6030 rows x 5 columns]"
      ]
     },
     "execution_count": 105,
     "metadata": {},
     "output_type": "execute_result"
    }
   ],
   "source": [
    "interp = Interpretation.from_learner(learn)\n",
    "top_losses = interp.top_losses()\n",
    "to_top_losses = learn.dls.valid.dataset.iloc[top_losses.indices]\n",
    "df_top_losses = to_top_losses.decode().items\n",
    "df_top_losses['loss'] = top_losses.values\n",
    "df_top_losses[cat_names + cont_names + ['score', 'loss']]"
   ]
  },
  {
   "cell_type": "code",
   "execution_count": 104,
   "metadata": {},
   "outputs": [
    {
     "data": {
      "text/html": [],
      "text/plain": [
       "<IPython.core.display.HTML object>"
      ]
     },
     "metadata": {},
     "output_type": "display_data"
    },
    {
     "ename": "SettingWithCopyError",
     "evalue": "\nA value is trying to be set on a copy of a slice from a DataFrame.\nTry using .loc[row_indexer,col_indexer] = value instead\n\nSee the caveats in the documentation: https://pandas.pydata.org/pandas-docs/stable/user_guide/indexing.html#returning-a-view-versus-a-copy",
     "output_type": "error",
     "traceback": [
      "\u001b[0;31m---------------------------------------------------------------------------\u001b[0m",
      "\u001b[0;31mSettingWithCopyError\u001b[0m                      Traceback (most recent call last)",
      "\u001b[0;32m<ipython-input-104-c9f30137a4a5>\u001b[0m in \u001b[0;36m<module>\u001b[0;34m\u001b[0m\n\u001b[1;32m      2\u001b[0m \u001b[0m_\u001b[0m\u001b[0;34m,\u001b[0m\u001b[0m_\u001b[0m\u001b[0;34m,\u001b[0m\u001b[0mpreds\u001b[0m \u001b[0;34m=\u001b[0m \u001b[0mlearn\u001b[0m\u001b[0;34m.\u001b[0m\u001b[0mget_preds\u001b[0m\u001b[0;34m(\u001b[0m\u001b[0mdl\u001b[0m\u001b[0;34m=\u001b[0m\u001b[0mdl_train\u001b[0m\u001b[0;34m,\u001b[0m \u001b[0mwith_decoded\u001b[0m\u001b[0;34m=\u001b[0m\u001b[0;32mTrue\u001b[0m\u001b[0;34m)\u001b[0m\u001b[0;34m\u001b[0m\u001b[0;34m\u001b[0m\u001b[0m\n\u001b[1;32m      3\u001b[0m \u001b[0mdf_train\u001b[0m \u001b[0;34m=\u001b[0m \u001b[0mdl_train\u001b[0m\u001b[0;34m.\u001b[0m\u001b[0mall_cols\u001b[0m\u001b[0;34m\u001b[0m\u001b[0;34m\u001b[0m\u001b[0m\n\u001b[0;32m----> 4\u001b[0;31m \u001b[0mdf_train\u001b[0m\u001b[0;34m[\u001b[0m\u001b[0;34m'score_pred'\u001b[0m\u001b[0;34m]\u001b[0m \u001b[0;34m=\u001b[0m \u001b[0mpreds\u001b[0m\u001b[0;34m\u001b[0m\u001b[0;34m\u001b[0m\u001b[0m\n\u001b[0m\u001b[1;32m      5\u001b[0m \u001b[0mdf_train\u001b[0m\u001b[0;34m\u001b[0m\u001b[0;34m\u001b[0m\u001b[0m\n\u001b[1;32m      6\u001b[0m \u001b[0;31m#learn.dls.show_results(b, preds)\u001b[0m\u001b[0;34m\u001b[0m\u001b[0;34m\u001b[0m\u001b[0;34m\u001b[0m\u001b[0m\n",
      "\u001b[0;32m/opt/conda/envs/fastai/lib/python3.8/site-packages/pandas/core/frame.py\u001b[0m in \u001b[0;36m__setitem__\u001b[0;34m(self, key, value)\u001b[0m\n\u001b[1;32m   3035\u001b[0m         \u001b[0;32melse\u001b[0m\u001b[0;34m:\u001b[0m\u001b[0;34m\u001b[0m\u001b[0;34m\u001b[0m\u001b[0m\n\u001b[1;32m   3036\u001b[0m             \u001b[0;31m# set column\u001b[0m\u001b[0;34m\u001b[0m\u001b[0;34m\u001b[0m\u001b[0;34m\u001b[0m\u001b[0m\n\u001b[0;32m-> 3037\u001b[0;31m             \u001b[0mself\u001b[0m\u001b[0;34m.\u001b[0m\u001b[0m_set_item\u001b[0m\u001b[0;34m(\u001b[0m\u001b[0mkey\u001b[0m\u001b[0;34m,\u001b[0m \u001b[0mvalue\u001b[0m\u001b[0;34m)\u001b[0m\u001b[0;34m\u001b[0m\u001b[0;34m\u001b[0m\u001b[0m\n\u001b[0m\u001b[1;32m   3038\u001b[0m \u001b[0;34m\u001b[0m\u001b[0m\n\u001b[1;32m   3039\u001b[0m     \u001b[0;32mdef\u001b[0m \u001b[0m_setitem_slice\u001b[0m\u001b[0;34m(\u001b[0m\u001b[0mself\u001b[0m\u001b[0;34m,\u001b[0m \u001b[0mkey\u001b[0m\u001b[0;34m:\u001b[0m \u001b[0mslice\u001b[0m\u001b[0;34m,\u001b[0m \u001b[0mvalue\u001b[0m\u001b[0;34m)\u001b[0m\u001b[0;34m:\u001b[0m\u001b[0;34m\u001b[0m\u001b[0;34m\u001b[0m\u001b[0m\n",
      "\u001b[0;32m/opt/conda/envs/fastai/lib/python3.8/site-packages/pandas/core/frame.py\u001b[0m in \u001b[0;36m_set_item\u001b[0;34m(self, key, value)\u001b[0m\n\u001b[1;32m   3118\u001b[0m         \u001b[0;31m# value exception to occur first\u001b[0m\u001b[0;34m\u001b[0m\u001b[0;34m\u001b[0m\u001b[0;34m\u001b[0m\u001b[0m\n\u001b[1;32m   3119\u001b[0m         \u001b[0;32mif\u001b[0m \u001b[0mlen\u001b[0m\u001b[0;34m(\u001b[0m\u001b[0mself\u001b[0m\u001b[0;34m)\u001b[0m\u001b[0;34m:\u001b[0m\u001b[0;34m\u001b[0m\u001b[0;34m\u001b[0m\u001b[0m\n\u001b[0;32m-> 3120\u001b[0;31m             \u001b[0mself\u001b[0m\u001b[0;34m.\u001b[0m\u001b[0m_check_setitem_copy\u001b[0m\u001b[0;34m(\u001b[0m\u001b[0;34m)\u001b[0m\u001b[0;34m\u001b[0m\u001b[0;34m\u001b[0m\u001b[0m\n\u001b[0m\u001b[1;32m   3121\u001b[0m \u001b[0;34m\u001b[0m\u001b[0m\n\u001b[1;32m   3122\u001b[0m     \u001b[0;32mdef\u001b[0m \u001b[0m_set_value\u001b[0m\u001b[0;34m(\u001b[0m\u001b[0mself\u001b[0m\u001b[0;34m,\u001b[0m \u001b[0mindex\u001b[0m\u001b[0;34m,\u001b[0m \u001b[0mcol\u001b[0m\u001b[0;34m,\u001b[0m \u001b[0mvalue\u001b[0m\u001b[0;34m,\u001b[0m \u001b[0mtakeable\u001b[0m\u001b[0;34m:\u001b[0m \u001b[0mbool\u001b[0m \u001b[0;34m=\u001b[0m \u001b[0;32mFalse\u001b[0m\u001b[0;34m)\u001b[0m\u001b[0;34m:\u001b[0m\u001b[0;34m\u001b[0m\u001b[0;34m\u001b[0m\u001b[0m\n",
      "\u001b[0;32m/opt/conda/envs/fastai/lib/python3.8/site-packages/pandas/core/generic.py\u001b[0m in \u001b[0;36m_check_setitem_copy\u001b[0;34m(self, stacklevel, t, force)\u001b[0m\n\u001b[1;32m   3670\u001b[0m \u001b[0;34m\u001b[0m\u001b[0m\n\u001b[1;32m   3671\u001b[0m         \u001b[0;32mif\u001b[0m \u001b[0mvalue\u001b[0m \u001b[0;34m==\u001b[0m \u001b[0;34m\"raise\"\u001b[0m\u001b[0;34m:\u001b[0m\u001b[0;34m\u001b[0m\u001b[0;34m\u001b[0m\u001b[0m\n\u001b[0;32m-> 3672\u001b[0;31m             \u001b[0;32mraise\u001b[0m \u001b[0mcom\u001b[0m\u001b[0;34m.\u001b[0m\u001b[0mSettingWithCopyError\u001b[0m\u001b[0;34m(\u001b[0m\u001b[0mt\u001b[0m\u001b[0;34m)\u001b[0m\u001b[0;34m\u001b[0m\u001b[0;34m\u001b[0m\u001b[0m\n\u001b[0m\u001b[1;32m   3673\u001b[0m         \u001b[0;32melif\u001b[0m \u001b[0mvalue\u001b[0m \u001b[0;34m==\u001b[0m \u001b[0;34m\"warn\"\u001b[0m\u001b[0;34m:\u001b[0m\u001b[0;34m\u001b[0m\u001b[0;34m\u001b[0m\u001b[0m\n\u001b[1;32m   3674\u001b[0m             \u001b[0mwarnings\u001b[0m\u001b[0;34m.\u001b[0m\u001b[0mwarn\u001b[0m\u001b[0;34m(\u001b[0m\u001b[0mt\u001b[0m\u001b[0;34m,\u001b[0m \u001b[0mcom\u001b[0m\u001b[0;34m.\u001b[0m\u001b[0mSettingWithCopyWarning\u001b[0m\u001b[0;34m,\u001b[0m \u001b[0mstacklevel\u001b[0m\u001b[0;34m=\u001b[0m\u001b[0mstacklevel\u001b[0m\u001b[0;34m)\u001b[0m\u001b[0;34m\u001b[0m\u001b[0;34m\u001b[0m\u001b[0m\n",
      "\u001b[0;31mSettingWithCopyError\u001b[0m: \nA value is trying to be set on a copy of a slice from a DataFrame.\nTry using .loc[row_indexer,col_indexer] = value instead\n\nSee the caveats in the documentation: https://pandas.pydata.org/pandas-docs/stable/user_guide/indexing.html#returning-a-view-versus-a-copy"
     ]
    }
   ],
   "source": [
    "dl_train = learn.dls[1]\n",
    "_,_,preds = learn.get_preds(dl=dl_train, with_decoded=True)\n",
    "df_train = dl_train.all_cols\n",
    "df_train['score_pred'] = preds\n",
    "df_train\n",
    "#learn.dls.show_results(b, preds)"
   ]
  },
  {
   "cell_type": "code",
   "execution_count": 30,
   "metadata": {},
   "outputs": [
    {
     "data": {
      "text/html": [
       "<div>\n",
       "<style scoped>\n",
       "    .dataframe tbody tr th:only-of-type {\n",
       "        vertical-align: middle;\n",
       "    }\n",
       "\n",
       "    .dataframe tbody tr th {\n",
       "        vertical-align: top;\n",
       "    }\n",
       "\n",
       "    .dataframe thead th {\n",
       "        text-align: right;\n",
       "    }\n",
       "</style>\n",
       "<table border=\"1\" class=\"dataframe\">\n",
       "  <thead>\n",
       "    <tr style=\"text-align: right;\">\n",
       "      <th></th>\n",
       "      <th>item_id</th>\n",
       "      <th>repo_id</th>\n",
       "      <th>org_id</th>\n",
       "      <th>actor_login</th>\n",
       "      <th>type</th>\n",
       "      <th>is_comment</th>\n",
       "      <th>title_chars_count</th>\n",
       "      <th>body_chars_count</th>\n",
       "      <th>markdown_chars_count</th>\n",
       "      <th>at_mentions_count</th>\n",
       "      <th>is_author</th>\n",
       "      <th>is_at_mentioned</th>\n",
       "      <th>actor_at_mentions_count</th>\n",
       "      <th>events_count</th>\n",
       "      <th>actor_events_count</th>\n",
       "      <th>comments_count</th>\n",
       "      <th>comments_body_count</th>\n",
       "      <th>actor_comments_count</th>\n",
       "      <th>actor_comments_body_count</th>\n",
       "      <th>prev_repo_creator_events_count</th>\n",
       "      <th>prev_repo_actor_events_count</th>\n",
       "      <th>total_repo_creator_events_count</th>\n",
       "      <th>total_repo_actor_events_count</th>\n",
       "    </tr>\n",
       "  </thead>\n",
       "  <tbody>\n",
       "    <tr>\n",
       "      <th>0</th>\n",
       "      <td>443205968</td>\n",
       "      <td>1318892</td>\n",
       "      <td>379348</td>\n",
       "      <td>sminnee</td>\n",
       "      <td>PullRequestEvent</td>\n",
       "      <td>False</td>\n",
       "      <td>50</td>\n",
       "      <td>587</td>\n",
       "      <td>3</td>\n",
       "      <td>13</td>\n",
       "      <td>False</td>\n",
       "      <td>True</td>\n",
       "      <td>1</td>\n",
       "      <td>43</td>\n",
       "      <td>3</td>\n",
       "      <td>43</td>\n",
       "      <td>27202</td>\n",
       "      <td>3</td>\n",
       "      <td>500</td>\n",
       "      <td>1000</td>\n",
       "      <td>1000</td>\n",
       "      <td>1000</td>\n",
       "      <td>1000</td>\n",
       "    </tr>\n",
       "  </tbody>\n",
       "</table>\n",
       "</div>"
      ],
      "text/plain": [
       "     item_id  repo_id  org_id actor_login              type  is_comment  \\\n",
       "0  443205968  1318892  379348     sminnee  PullRequestEvent       False   \n",
       "\n",
       "   title_chars_count  body_chars_count  markdown_chars_count  \\\n",
       "0                 50               587                     3   \n",
       "\n",
       "   at_mentions_count  is_author  is_at_mentioned  actor_at_mentions_count  \\\n",
       "0                 13      False             True                        1   \n",
       "\n",
       "   events_count  actor_events_count  comments_count  comments_body_count  \\\n",
       "0            43                   3              43                27202   \n",
       "\n",
       "   actor_comments_count  actor_comments_body_count  \\\n",
       "0                     3                        500   \n",
       "\n",
       "   prev_repo_creator_events_count  prev_repo_actor_events_count  \\\n",
       "0                            1000                          1000   \n",
       "\n",
       "   total_repo_creator_events_count  total_repo_actor_events_count  \n",
       "0                             1000                           1000  "
      ]
     },
     "execution_count": 30,
     "metadata": {},
     "output_type": "execute_result"
    }
   ],
   "source": [
    "# Validate with a new (previously unseen) test data set\n",
    "test_data = fetch(\n",
    "    url='https://github.com/silverstripe/silverstripe-framework/pull/9572',\n",
    "    user='chillu',\n",
    "    github_api_token=os.getenv('GITHUB_API_TOKEN')\n",
    ")\n",
    "# Remove fields not used in model\n",
    "del test_data['all_actors']\n",
    "del test_data['all_at_mentions']\n",
    "del test_data['item_url']\n",
    "# Create fields missing from test data\n",
    "test_data['prev_repo_creator_events_count'] = 1000\n",
    "test_data['prev_repo_actor_events_count'] = 1000\n",
    "test_data['total_repo_creator_events_count'] = 1000\n",
    "test_data['total_repo_actor_events_count'] = 1000\n",
    "# Create DataFrame\n",
    "test_df = pd.DataFrame.from_dict([test_data])\n",
    "# Reapply preprocessing\n",
    "test_df = preprocess(test_df)\n",
    "test_df.head()"
   ]
  },
  {
   "cell_type": "code",
   "execution_count": 31,
   "metadata": {},
   "outputs": [
    {
     "data": {
      "text/html": [],
      "text/plain": [
       "<IPython.core.display.HTML object>"
      ]
     },
     "metadata": {},
     "output_type": "display_data"
    },
    {
     "data": {
      "text/html": [
       "<table border=\"1\" class=\"dataframe\">\n",
       "  <thead>\n",
       "    <tr style=\"text-align: right;\">\n",
       "      <th></th>\n",
       "      <th>org_id</th>\n",
       "      <th>repo_id</th>\n",
       "      <th>actor_login</th>\n",
       "      <th>score</th>\n",
       "    </tr>\n",
       "  </thead>\n",
       "  <tbody>\n",
       "    <tr>\n",
       "      <th>0</th>\n",
       "      <td>379348</td>\n",
       "      <td>1318892</td>\n",
       "      <td>sminnee</td>\n",
       "      <td>0.219303</td>\n",
       "    </tr>\n",
       "  </tbody>\n",
       "</table>"
      ],
      "text/plain": [
       "<IPython.core.display.HTML object>"
      ]
     },
     "metadata": {},
     "output_type": "display_data"
    },
    {
     "data": {
      "text/plain": [
       "tensor([0.2193])"
      ]
     },
     "execution_count": 31,
     "metadata": {},
     "output_type": "execute_result"
    }
   ],
   "source": [
    "row, pred, probs = learn.predict(test_df.iloc[0])\n",
    "row.show()\n",
    "pred"
   ]
  },
  {
   "cell_type": "code",
   "execution_count": null,
   "metadata": {},
   "outputs": [],
   "source": [
    "learn.export('/storage/model.pkl')"
   ]
  },
  {
   "cell_type": "code",
   "execution_count": null,
   "metadata": {},
   "outputs": [],
   "source": []
  }
 ],
 "metadata": {
  "kernelspec": {
   "display_name": "Python 3",
   "language": "python",
   "name": "python3"
  },
  "language_info": {
   "codemirror_mode": {
    "name": "ipython",
    "version": 3
   },
   "file_extension": ".py",
   "mimetype": "text/x-python",
   "name": "python",
   "nbconvert_exporter": "python",
   "pygments_lexer": "ipython3",
   "version": "3.8.5"
  }
 },
 "nbformat": 4,
 "nbformat_minor": 2
}
